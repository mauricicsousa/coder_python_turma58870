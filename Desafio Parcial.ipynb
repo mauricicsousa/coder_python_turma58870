{
 "cells": [
  {
   "cell_type": "markdown",
   "metadata": {},
   "source": [
    "01. TABELA 01 - TAXAS"
   ]
  },
  {
   "cell_type": "code",
   "execution_count": 23,
   "metadata": {},
   "outputs": [],
   "source": [
    "import pandas as pd\n",
    "import requests \n",
    "\n",
    "url = \"https://brasilapi.com.br/api/taxas/v1\"\n",
    "response = requests.get(url)"
   ]
  },
  {
   "cell_type": "code",
   "execution_count": 24,
   "metadata": {},
   "outputs": [],
   "source": [
    "if response.status_code == 200:\n",
    "    data_json = response.json()\n",
    "else:\n",
    "    print(\"Erro ao acessar a API\")"
   ]
  },
  {
   "cell_type": "code",
   "execution_count": 25,
   "metadata": {},
   "outputs": [
    {
     "data": {
      "text/html": [
       "<div>\n",
       "<style scoped>\n",
       "    .dataframe tbody tr th:only-of-type {\n",
       "        vertical-align: middle;\n",
       "    }\n",
       "\n",
       "    .dataframe tbody tr th {\n",
       "        vertical-align: top;\n",
       "    }\n",
       "\n",
       "    .dataframe thead th {\n",
       "        text-align: right;\n",
       "    }\n",
       "</style>\n",
       "<table border=\"1\" class=\"dataframe\">\n",
       "  <thead>\n",
       "    <tr style=\"text-align: right;\">\n",
       "      <th></th>\n",
       "      <th>nome</th>\n",
       "      <th>valor</th>\n",
       "    </tr>\n",
       "  </thead>\n",
       "  <tbody>\n",
       "    <tr>\n",
       "      <th>0</th>\n",
       "      <td>Selic</td>\n",
       "      <td>10.50</td>\n",
       "    </tr>\n",
       "    <tr>\n",
       "      <th>1</th>\n",
       "      <td>CDI</td>\n",
       "      <td>10.40</td>\n",
       "    </tr>\n",
       "    <tr>\n",
       "      <th>2</th>\n",
       "      <td>IPCA</td>\n",
       "      <td>3.93</td>\n",
       "    </tr>\n",
       "  </tbody>\n",
       "</table>\n",
       "</div>"
      ],
      "text/plain": [
       "    nome  valor\n",
       "0  Selic  10.50\n",
       "1    CDI  10.40\n",
       "2   IPCA   3.93"
      ]
     },
     "execution_count": 25,
     "metadata": {},
     "output_type": "execute_result"
    }
   ],
   "source": [
    "taxas_full = pd.DataFrame(data_json)\n",
    "taxas_full.head(3)"
   ]
  },
  {
   "cell_type": "markdown",
   "metadata": {},
   "source": [
    "02. TABELA 02 - UF"
   ]
  },
  {
   "cell_type": "code",
   "execution_count": 7,
   "metadata": {},
   "outputs": [],
   "source": [
    "url = \"https://brasilapi.com.br/api/ibge/uf/v1\"\n",
    "response = requests.get(url)"
   ]
  },
  {
   "cell_type": "code",
   "execution_count": 8,
   "metadata": {},
   "outputs": [],
   "source": [
    "if response.status_code == 200:\n",
    "    data_json = response.json()\n",
    "else:\n",
    "    print(\"Erro ao acessar a API\")"
   ]
  },
  {
   "cell_type": "code",
   "execution_count": 9,
   "metadata": {},
   "outputs": [
    {
     "data": {
      "text/html": [
       "<div>\n",
       "<style scoped>\n",
       "    .dataframe tbody tr th:only-of-type {\n",
       "        vertical-align: middle;\n",
       "    }\n",
       "\n",
       "    .dataframe tbody tr th {\n",
       "        vertical-align: top;\n",
       "    }\n",
       "\n",
       "    .dataframe thead th {\n",
       "        text-align: right;\n",
       "    }\n",
       "</style>\n",
       "<table border=\"1\" class=\"dataframe\">\n",
       "  <thead>\n",
       "    <tr style=\"text-align: right;\">\n",
       "      <th></th>\n",
       "      <th>id</th>\n",
       "      <th>sigla</th>\n",
       "      <th>nome</th>\n",
       "      <th>regiao</th>\n",
       "    </tr>\n",
       "  </thead>\n",
       "  <tbody>\n",
       "    <tr>\n",
       "      <th>0</th>\n",
       "      <td>11</td>\n",
       "      <td>RO</td>\n",
       "      <td>Rondônia</td>\n",
       "      <td>{'id': 1, 'sigla': 'N', 'nome': 'Norte'}</td>\n",
       "    </tr>\n",
       "    <tr>\n",
       "      <th>1</th>\n",
       "      <td>12</td>\n",
       "      <td>AC</td>\n",
       "      <td>Acre</td>\n",
       "      <td>{'id': 1, 'sigla': 'N', 'nome': 'Norte'}</td>\n",
       "    </tr>\n",
       "    <tr>\n",
       "      <th>2</th>\n",
       "      <td>13</td>\n",
       "      <td>AM</td>\n",
       "      <td>Amazonas</td>\n",
       "      <td>{'id': 1, 'sigla': 'N', 'nome': 'Norte'}</td>\n",
       "    </tr>\n",
       "  </tbody>\n",
       "</table>\n",
       "</div>"
      ],
      "text/plain": [
       "   id sigla      nome                                    regiao\n",
       "0  11    RO  Rondônia  {'id': 1, 'sigla': 'N', 'nome': 'Norte'}\n",
       "1  12    AC      Acre  {'id': 1, 'sigla': 'N', 'nome': 'Norte'}\n",
       "2  13    AM  Amazonas  {'id': 1, 'sigla': 'N', 'nome': 'Norte'}"
      ]
     },
     "execution_count": 9,
     "metadata": {},
     "output_type": "execute_result"
    }
   ],
   "source": [
    "UF_full = pd.DataFrame(data_json)\n",
    "UF_full.head(3)"
   ]
  },
  {
   "cell_type": "markdown",
   "metadata": {},
   "source": [
    "03. TABELA 03 - PIX"
   ]
  },
  {
   "cell_type": "code",
   "execution_count": 10,
   "metadata": {},
   "outputs": [],
   "source": [
    "url = \"https://brasilapi.com.br/api/pix/v1/participants\"\n",
    "response = requests.get(url)"
   ]
  },
  {
   "cell_type": "code",
   "execution_count": 11,
   "metadata": {},
   "outputs": [],
   "source": [
    "if response.status_code == 200:\n",
    "    data_json = response.json()\n",
    "else:\n",
    "    print(\"Erro ao acessar a API\")"
   ]
  },
  {
   "cell_type": "code",
   "execution_count": 12,
   "metadata": {},
   "outputs": [
    {
     "data": {
      "text/html": [
       "<div>\n",
       "<style scoped>\n",
       "    .dataframe tbody tr th:only-of-type {\n",
       "        vertical-align: middle;\n",
       "    }\n",
       "\n",
       "    .dataframe tbody tr th {\n",
       "        vertical-align: top;\n",
       "    }\n",
       "\n",
       "    .dataframe thead th {\n",
       "        text-align: right;\n",
       "    }\n",
       "</style>\n",
       "<table border=\"1\" class=\"dataframe\">\n",
       "  <thead>\n",
       "    <tr style=\"text-align: right;\">\n",
       "      <th></th>\n",
       "      <th>ispb</th>\n",
       "      <th>nome</th>\n",
       "      <th>nome_reduzido</th>\n",
       "      <th>modalidade_participacao</th>\n",
       "      <th>tipo_participacao</th>\n",
       "      <th>inicio_operacao</th>\n",
       "    </tr>\n",
       "  </thead>\n",
       "  <tbody>\n",
       "    <tr>\n",
       "      <th>0</th>\n",
       "      <td>00000000</td>\n",
       "      <td>BANCO DO BRASIL S.A.</td>\n",
       "      <td>BCO DO BRASIL S.A.</td>\n",
       "      <td>PDCT</td>\n",
       "      <td>DRCT</td>\n",
       "      <td>2020-11-03T09:30:00.000Z</td>\n",
       "    </tr>\n",
       "    <tr>\n",
       "      <th>1</th>\n",
       "      <td>00000208</td>\n",
       "      <td>BRB - BANCO DE BRASILIA S.A.</td>\n",
       "      <td>BRB - BCO DE BRASILIA S.A.</td>\n",
       "      <td>PDCT</td>\n",
       "      <td>DRCT</td>\n",
       "      <td>2020-11-03T09:30:00.000Z</td>\n",
       "    </tr>\n",
       "    <tr>\n",
       "      <th>2</th>\n",
       "      <td>00068987</td>\n",
       "      <td>COOPERATIVA DE CRÉDITO ARACREDI LTDA. - SICOOB...</td>\n",
       "      <td>CC ARACREDI LTDA.</td>\n",
       "      <td>PDCT</td>\n",
       "      <td>IDRT</td>\n",
       "      <td>2020-11-03T09:30:00.000Z</td>\n",
       "    </tr>\n",
       "  </tbody>\n",
       "</table>\n",
       "</div>"
      ],
      "text/plain": [
       "       ispb                                               nome  \\\n",
       "0  00000000                               BANCO DO BRASIL S.A.   \n",
       "1  00000208                       BRB - BANCO DE BRASILIA S.A.   \n",
       "2  00068987  COOPERATIVA DE CRÉDITO ARACREDI LTDA. - SICOOB...   \n",
       "\n",
       "                nome_reduzido modalidade_participacao tipo_participacao  \\\n",
       "0          BCO DO BRASIL S.A.                    PDCT              DRCT   \n",
       "1  BRB - BCO DE BRASILIA S.A.                    PDCT              DRCT   \n",
       "2           CC ARACREDI LTDA.                    PDCT              IDRT   \n",
       "\n",
       "            inicio_operacao  \n",
       "0  2020-11-03T09:30:00.000Z  \n",
       "1  2020-11-03T09:30:00.000Z  \n",
       "2  2020-11-03T09:30:00.000Z  "
      ]
     },
     "execution_count": 12,
     "metadata": {},
     "output_type": "execute_result"
    }
   ],
   "source": [
    "pix_full = pd.DataFrame(data_json)\n",
    "pix_full.head(3)"
   ]
  },
  {
   "cell_type": "markdown",
   "metadata": {},
   "source": [
    "04. TABELA 04 - DDD"
   ]
  },
  {
   "cell_type": "code",
   "execution_count": 55,
   "metadata": {},
   "outputs": [],
   "source": [
    "from plyer import notification\n",
    "\n",
    "def alerta(response, url, ddd):\n",
    "    \n",
    "    if response == 200:\n",
    "        titulo = \"DEU BOM!\"\n",
    "    else:\n",
    "        titulo = \"DEU RUIM AMIGÃO!\"\n",
    "\n",
    "    mensagem = f\"O DDD: 0{ddd} digitado não foi encontrado na base: {url}\"\n",
    "\n",
    "    notification.notify(\n",
    "        title=titulo,\n",
    "        message=f\"{mensagem}\",\n",
    "        app_name=\"DESAFIO FINAL\",\n",
    "        timeout=10\n",
    "    )"
   ]
  },
  {
   "cell_type": "code",
   "execution_count": 67,
   "metadata": {},
   "outputs": [],
   "source": [
    "ddd = input(\"Qual o DDD quer buscar?\")\n",
    "url = f\"https://brasilapi.com.br/api/ddd/v1/{ddd}\"\n",
    "response = requests.get(url)\n",
    "\n",
    "if response.status_code == 200:\n",
    "    data_json = response.json()\n",
    "    ddd_full = pd.DataFrame(data_json)\n",
    "    ddd_full.head(3)\n",
    "else:\n",
    "    alerta(response, url, ddd)\n"
   ]
  }
 ],
 "metadata": {
  "kernelspec": {
   "display_name": "Python 3",
   "language": "python",
   "name": "python3"
  },
  "language_info": {
   "codemirror_mode": {
    "name": "ipython",
    "version": 3
   },
   "file_extension": ".py",
   "mimetype": "text/x-python",
   "name": "python",
   "nbconvert_exporter": "python",
   "pygments_lexer": "ipython3",
   "version": "3.10.6"
  }
 },
 "nbformat": 4,
 "nbformat_minor": 2
}
